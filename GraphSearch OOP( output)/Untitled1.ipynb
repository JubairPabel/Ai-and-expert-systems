{
 "cells": [
  {
   "cell_type": "code",
   "execution_count": 14,
   "metadata": {},
   "outputs": [
    {
     "name": "stdout",
     "output_type": "stream",
     "text": [
      "['A', 'G', 'F', 'H', 'C']\n"
     ]
    }
   ],
   "source": [
    "import math\n",
    "\n",
    "adjList = {\n",
    "    'A': (('B', 3), ('J', 4), ('G', 1)),\n",
    "    'B': (('A', 3), ('D', 10)),\n",
    "    'C': (('H', 3)),\n",
    "    'D': (('B', 10), ('J', 3), ('H', 11)),\n",
    "    'E': (('F', 2), ('G', 14), ('I', 1)),\n",
    "    'F': (('G', 8), ('E', 2), ('I', 2), ('H', 4)),\n",
    "    'G': (('A', 1), ('E', 14), ('F', 8), ('J', 6)),\n",
    "    'H': (('D', 11), ('F', 4), ('I', 6), ('C', 3)),\n",
    "    'I': (('E', 1), ('F', 2), ('H', 6)),\n",
    "    'J': (('A', 4), ('G', 6), ('D', 3)),\n",
    "}\n",
    "\n",
    "start = 'A'\n",
    "goal = 'C'\n",
    "frontier = {'A': 0}\n",
    "explored = {}\n",
    "parent = {}\n",
    "ans = []\n",
    "\n",
    "\n",
    "def dequeue():\n",
    "    minValue = math.inf\n",
    "    minNode = ''\n",
    "    for key in frontier.keys():\n",
    "        if frontier[key] < minValue:\n",
    "            minValue = frontier[key]\n",
    "            minNode = key\n",
    "    del frontier[minNode]\n",
    "    return (minNode, minValue)\n",
    "\n",
    "\n",
    "while True:\n",
    "    if not frontier:\n",
    "        break\n",
    "    node, weight = dequeue()\n",
    "    if node == goal:\n",
    "        break\n",
    "    explored[node] = weight\n",
    "    for child in adjList[node]:\n",
    "        cn, cw = child\n",
    "        if cn in frontier.keys():\n",
    "            if cw + weight < frontier[cn]:\n",
    "                frontier[cn] = cw + weight\n",
    "                parent[cn] = node\n",
    "\n",
    "        if cn not in explored.keys():\n",
    "            if cn not in frontier.keys():\n",
    "                frontier[cn] = cw + weight\n",
    "                parent[cn] = node\n",
    "\n",
    "key = goal\n",
    "while True:\n",
    "    if key == start:\n",
    "        break\n",
    "    r = parent[key]\n",
    "    key = r\n",
    "    ans.append(r)\n",
    "\n",
    "ans.reverse()\n",
    "ans.append(goal)\n",
    "\n",
    "print(ans)\n"
   ]
  }
 ],
 "metadata": {
  "kernelspec": {
   "display_name": "Python 3",
   "language": "python",
   "name": "python3"
  },
  "language_info": {
   "codemirror_mode": {
    "name": "ipython",
    "version": 3
   },
   "file_extension": ".py",
   "mimetype": "text/x-python",
   "name": "python",
   "nbconvert_exporter": "python",
   "pygments_lexer": "ipython3",
   "version": "3.8.3"
  }
 },
 "nbformat": 4,
 "nbformat_minor": 4
}
